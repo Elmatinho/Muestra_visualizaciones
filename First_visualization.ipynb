{
 "cells": [
  {
   "cell_type": "code",
   "execution_count": 1,
   "metadata": {},
   "outputs": [],
   "source": [
    "import pandas as pd\n",
    "import matplotlib.pyplot as plt"
   ]
  },
  {
   "cell_type": "markdown",
   "metadata": {},
   "source": [
    "## Este dataset muestra como se ha ido comportando el matrimonio de niños alrededor del mundo desde el año 2015 al 2022. La idea de este trabajo es visualizar el comportamiento por continente y su evolución."
   ]
  },
  {
   "cell_type": "markdown",
   "metadata": {},
   "source": [
    "Cargando el archivo y revisando que contiene para su posterior limpieza"
   ]
  },
  {
   "cell_type": "code",
   "execution_count": 3,
   "metadata": {},
   "outputs": [
    {
     "data": {
      "text/html": [
       "<div>\n",
       "<style scoped>\n",
       "    .dataframe tbody tr th:only-of-type {\n",
       "        vertical-align: middle;\n",
       "    }\n",
       "\n",
       "    .dataframe tbody tr th {\n",
       "        vertical-align: top;\n",
       "    }\n",
       "\n",
       "    .dataframe thead th {\n",
       "        text-align: right;\n",
       "    }\n",
       "</style>\n",
       "<table border=\"1\" class=\"dataframe\">\n",
       "  <thead>\n",
       "    <tr style=\"text-align: right;\">\n",
       "      <th></th>\n",
       "      <th>DATAFLOW</th>\n",
       "      <th>REF_AREA:Geographic area</th>\n",
       "      <th>INDICATOR:Indicator</th>\n",
       "      <th>SEX:Sex</th>\n",
       "      <th>TIME_PERIOD:Time period</th>\n",
       "      <th>OBS_VALUE:Observation Value</th>\n",
       "      <th>UNIT_MULTIPLIER:Unit multiplier</th>\n",
       "      <th>UNIT_MEASURE:Unit of measure</th>\n",
       "      <th>OBS_STATUS:Observation Status</th>\n",
       "      <th>OBS_CONF:Observation confidentaility</th>\n",
       "      <th>...</th>\n",
       "      <th>WGTD_SAMPL_SIZE:Weighted Sample Size</th>\n",
       "      <th>OBS_FOOTNOTE:Observation footnote</th>\n",
       "      <th>SERIES_FOOTNOTE:Series footnote</th>\n",
       "      <th>DATA_SOURCE:Data Source</th>\n",
       "      <th>SOURCE_LINK:Citation of or link to the data source</th>\n",
       "      <th>CUSTODIAN:Custodian</th>\n",
       "      <th>TIME_PERIOD_METHOD:Time period activity related to when the data are collected</th>\n",
       "      <th>REF_PERIOD:Reference Period</th>\n",
       "      <th>COVERAGE_TIME:The period of time for which data are provided</th>\n",
       "      <th>AGE:Current age</th>\n",
       "    </tr>\n",
       "  </thead>\n",
       "  <tbody>\n",
       "    <tr>\n",
       "      <th>0</th>\n",
       "      <td>UNICEF:GLOBAL_DATAFLOW(1.0): Cross-sector indi...</td>\n",
       "      <td>AFG: Afghanistan</td>\n",
       "      <td>PT_F_15-19_MRD: Percentage of girls aged 15-19...</td>\n",
       "      <td>_T: Total</td>\n",
       "      <td>2017</td>\n",
       "      <td>16.3</td>\n",
       "      <td>NaN</td>\n",
       "      <td>PCNT: %</td>\n",
       "      <td>RP: Reported</td>\n",
       "      <td>F: Free</td>\n",
       "      <td>...</td>\n",
       "      <td>NaN</td>\n",
       "      <td>NaN</td>\n",
       "      <td>NaN</td>\n",
       "      <td>ALCS 2016-17</td>\n",
       "      <td>NaN</td>\n",
       "      <td>NaN</td>\n",
       "      <td>EOF: End of fieldwork</td>\n",
       "      <td>NaN</td>\n",
       "      <td>2016-17</td>\n",
       "      <td>Y15T19: 15 to 19 years old</td>\n",
       "    </tr>\n",
       "    <tr>\n",
       "      <th>1</th>\n",
       "      <td>UNICEF:GLOBAL_DATAFLOW(1.0): Cross-sector indi...</td>\n",
       "      <td>AFG: Afghanistan</td>\n",
       "      <td>PT_F_20-24_MRD_U15: Percentage of women (aged ...</td>\n",
       "      <td>_T: Total</td>\n",
       "      <td>2017</td>\n",
       "      <td>4.2</td>\n",
       "      <td>NaN</td>\n",
       "      <td>PCNT: %</td>\n",
       "      <td>RP: Reported</td>\n",
       "      <td>F: Free</td>\n",
       "      <td>...</td>\n",
       "      <td>NaN</td>\n",
       "      <td>NaN</td>\n",
       "      <td>NaN</td>\n",
       "      <td>LCS 2016-17</td>\n",
       "      <td>NaN</td>\n",
       "      <td>NaN</td>\n",
       "      <td>EOF: End of fieldwork</td>\n",
       "      <td>NaN</td>\n",
       "      <td>2016-17</td>\n",
       "      <td>Y20T24: 20 to 24 years old</td>\n",
       "    </tr>\n",
       "    <tr>\n",
       "      <th>2</th>\n",
       "      <td>UNICEF:GLOBAL_DATAFLOW(1.0): Cross-sector indi...</td>\n",
       "      <td>AFG: Afghanistan</td>\n",
       "      <td>PT_M_15-19_MRD: Percentage of boys aged 15-19 ...</td>\n",
       "      <td>_T: Total</td>\n",
       "      <td>2015</td>\n",
       "      <td>3.1</td>\n",
       "      <td>NaN</td>\n",
       "      <td>PCNT: %</td>\n",
       "      <td>RP: Reported</td>\n",
       "      <td>F: Free</td>\n",
       "      <td>...</td>\n",
       "      <td>NaN</td>\n",
       "      <td>NaN</td>\n",
       "      <td>NaN</td>\n",
       "      <td>DHS 2015</td>\n",
       "      <td>NaN</td>\n",
       "      <td>NaN</td>\n",
       "      <td>EOF: End of fieldwork</td>\n",
       "      <td>NaN</td>\n",
       "      <td>2015</td>\n",
       "      <td>Y15T19: 15 to 19 years old</td>\n",
       "    </tr>\n",
       "    <tr>\n",
       "      <th>3</th>\n",
       "      <td>UNICEF:GLOBAL_DATAFLOW(1.0): Cross-sector indi...</td>\n",
       "      <td>AFG: Afghanistan</td>\n",
       "      <td>PT_M_20-24_MRD_U18: Percentage of men (aged 20...</td>\n",
       "      <td>_T: Total</td>\n",
       "      <td>2015</td>\n",
       "      <td>7.3</td>\n",
       "      <td>NaN</td>\n",
       "      <td>PCNT: %</td>\n",
       "      <td>RP: Reported</td>\n",
       "      <td>F: Free</td>\n",
       "      <td>...</td>\n",
       "      <td>NaN</td>\n",
       "      <td>NaN</td>\n",
       "      <td>NaN</td>\n",
       "      <td>DHS 2015</td>\n",
       "      <td>NaN</td>\n",
       "      <td>NaN</td>\n",
       "      <td>EOF: End of fieldwork</td>\n",
       "      <td>NaN</td>\n",
       "      <td>2015</td>\n",
       "      <td>Y20T24: 20 to 24 years old</td>\n",
       "    </tr>\n",
       "    <tr>\n",
       "      <th>4</th>\n",
       "      <td>UNICEF:GLOBAL_DATAFLOW(1.0): Cross-sector indi...</td>\n",
       "      <td>ALB: Albania</td>\n",
       "      <td>PT_F_15-19_MRD: Percentage of girls aged 15-19...</td>\n",
       "      <td>_T: Total</td>\n",
       "      <td>2018</td>\n",
       "      <td>6.7</td>\n",
       "      <td>NaN</td>\n",
       "      <td>PCNT: %</td>\n",
       "      <td>RP: Reported</td>\n",
       "      <td>F: Free</td>\n",
       "      <td>...</td>\n",
       "      <td>NaN</td>\n",
       "      <td>NaN</td>\n",
       "      <td>NaN</td>\n",
       "      <td>DHS 2017-18</td>\n",
       "      <td>NaN</td>\n",
       "      <td>NaN</td>\n",
       "      <td>EOF: End of fieldwork</td>\n",
       "      <td>NaN</td>\n",
       "      <td>2017-18</td>\n",
       "      <td>Y15T19: 15 to 19 years old</td>\n",
       "    </tr>\n",
       "  </tbody>\n",
       "</table>\n",
       "<p>5 rows × 22 columns</p>\n",
       "</div>"
      ],
      "text/plain": [
       "                                            DATAFLOW REF_AREA:Geographic area  \\\n",
       "0  UNICEF:GLOBAL_DATAFLOW(1.0): Cross-sector indi...         AFG: Afghanistan   \n",
       "1  UNICEF:GLOBAL_DATAFLOW(1.0): Cross-sector indi...         AFG: Afghanistan   \n",
       "2  UNICEF:GLOBAL_DATAFLOW(1.0): Cross-sector indi...         AFG: Afghanistan   \n",
       "3  UNICEF:GLOBAL_DATAFLOW(1.0): Cross-sector indi...         AFG: Afghanistan   \n",
       "4  UNICEF:GLOBAL_DATAFLOW(1.0): Cross-sector indi...             ALB: Albania   \n",
       "\n",
       "                                 INDICATOR:Indicator    SEX:Sex  \\\n",
       "0  PT_F_15-19_MRD: Percentage of girls aged 15-19...  _T: Total   \n",
       "1  PT_F_20-24_MRD_U15: Percentage of women (aged ...  _T: Total   \n",
       "2  PT_M_15-19_MRD: Percentage of boys aged 15-19 ...  _T: Total   \n",
       "3  PT_M_20-24_MRD_U18: Percentage of men (aged 20...  _T: Total   \n",
       "4  PT_F_15-19_MRD: Percentage of girls aged 15-19...  _T: Total   \n",
       "\n",
       "   TIME_PERIOD:Time period  OBS_VALUE:Observation Value  \\\n",
       "0                     2017                         16.3   \n",
       "1                     2017                          4.2   \n",
       "2                     2015                          3.1   \n",
       "3                     2015                          7.3   \n",
       "4                     2018                          6.7   \n",
       "\n",
       "   UNIT_MULTIPLIER:Unit multiplier UNIT_MEASURE:Unit of measure  \\\n",
       "0                              NaN                      PCNT: %   \n",
       "1                              NaN                      PCNT: %   \n",
       "2                              NaN                      PCNT: %   \n",
       "3                              NaN                      PCNT: %   \n",
       "4                              NaN                      PCNT: %   \n",
       "\n",
       "  OBS_STATUS:Observation Status OBS_CONF:Observation confidentaility  ...  \\\n",
       "0                  RP: Reported                              F: Free  ...   \n",
       "1                  RP: Reported                              F: Free  ...   \n",
       "2                  RP: Reported                              F: Free  ...   \n",
       "3                  RP: Reported                              F: Free  ...   \n",
       "4                  RP: Reported                              F: Free  ...   \n",
       "\n",
       "   WGTD_SAMPL_SIZE:Weighted Sample Size  OBS_FOOTNOTE:Observation footnote  \\\n",
       "0                                   NaN                                NaN   \n",
       "1                                   NaN                                NaN   \n",
       "2                                   NaN                                NaN   \n",
       "3                                   NaN                                NaN   \n",
       "4                                   NaN                                NaN   \n",
       "\n",
       "   SERIES_FOOTNOTE:Series footnote DATA_SOURCE:Data Source  \\\n",
       "0                              NaN            ALCS 2016-17   \n",
       "1                              NaN             LCS 2016-17   \n",
       "2                              NaN                DHS 2015   \n",
       "3                              NaN                DHS 2015   \n",
       "4                              NaN             DHS 2017-18   \n",
       "\n",
       "   SOURCE_LINK:Citation of or link to the data source CUSTODIAN:Custodian  \\\n",
       "0                                                NaN                  NaN   \n",
       "1                                                NaN                  NaN   \n",
       "2                                                NaN                  NaN   \n",
       "3                                                NaN                  NaN   \n",
       "4                                                NaN                  NaN   \n",
       "\n",
       "   TIME_PERIOD_METHOD:Time period activity related to when the data are collected  \\\n",
       "0                              EOF: End of fieldwork                                \n",
       "1                              EOF: End of fieldwork                                \n",
       "2                              EOF: End of fieldwork                                \n",
       "3                              EOF: End of fieldwork                                \n",
       "4                              EOF: End of fieldwork                                \n",
       "\n",
       "   REF_PERIOD:Reference Period  \\\n",
       "0                          NaN   \n",
       "1                          NaN   \n",
       "2                          NaN   \n",
       "3                          NaN   \n",
       "4                          NaN   \n",
       "\n",
       "  COVERAGE_TIME:The period of time for which data are provided  \\\n",
       "0                                            2016-17             \n",
       "1                                            2016-17             \n",
       "2                                               2015             \n",
       "3                                               2015             \n",
       "4                                            2017-18             \n",
       "\n",
       "              AGE:Current age  \n",
       "0  Y15T19: 15 to 19 years old  \n",
       "1  Y20T24: 20 to 24 years old  \n",
       "2  Y15T19: 15 to 19 years old  \n",
       "3  Y20T24: 20 to 24 years old  \n",
       "4  Y15T19: 15 to 19 years old  \n",
       "\n",
       "[5 rows x 22 columns]"
      ]
     },
     "execution_count": 3,
     "metadata": {},
     "output_type": "execute_result"
    }
   ],
   "source": [
    "archivo=pd.read_csv('/Users/matiasinostrozacifuentes/Desktop/python_intro/Muestra_visualizaciones/Data/fusion_GLOBAL_DATAFLOW_UNICEF_1.0_.PT_F_20-24_MRD_U15+PT_M_20-24_MRD_U18+PT_M_15-19_MRD+PT_F_15-19_MRD...csv')\n",
    "archivo.head()"
   ]
  },
  {
   "cell_type": "code",
   "execution_count": 4,
   "metadata": {},
   "outputs": [
    {
     "name": "stdout",
     "output_type": "stream",
     "text": [
      "<class 'pandas.core.frame.DataFrame'>\n",
      "RangeIndex: 348 entries, 0 to 347\n",
      "Data columns (total 22 columns):\n",
      " #   Column                                                                          Non-Null Count  Dtype  \n",
      "---  ------                                                                          --------------  -----  \n",
      " 0   DATAFLOW                                                                        348 non-null    object \n",
      " 1   REF_AREA:Geographic area                                                        348 non-null    object \n",
      " 2   INDICATOR:Indicator                                                             348 non-null    object \n",
      " 3   SEX:Sex                                                                         348 non-null    object \n",
      " 4   TIME_PERIOD:Time period                                                         348 non-null    int64  \n",
      " 5   OBS_VALUE:Observation Value                                                     348 non-null    float64\n",
      " 6   UNIT_MULTIPLIER:Unit multiplier                                                 0 non-null      float64\n",
      " 7   UNIT_MEASURE:Unit of measure                                                    348 non-null    object \n",
      " 8   OBS_STATUS:Observation Status                                                   348 non-null    object \n",
      " 9   OBS_CONF:Observation confidentaility                                            348 non-null    object \n",
      " 10  LOWER_BOUND:Lower Bound                                                         0 non-null      float64\n",
      " 11  UPPER_BOUND:Upper Bound                                                         0 non-null      float64\n",
      " 12  WGTD_SAMPL_SIZE:Weighted Sample Size                                            0 non-null      float64\n",
      " 13  OBS_FOOTNOTE:Observation footnote                                               37 non-null     object \n",
      " 14  SERIES_FOOTNOTE:Series footnote                                                 0 non-null      float64\n",
      " 15  DATA_SOURCE:Data Source                                                         348 non-null    object \n",
      " 16  SOURCE_LINK:Citation of or link to the data source                              0 non-null      float64\n",
      " 17  CUSTODIAN:Custodian                                                             0 non-null      float64\n",
      " 18  TIME_PERIOD_METHOD:Time period activity related to when the data are collected  348 non-null    object \n",
      " 19  REF_PERIOD:Reference Period                                                     0 non-null      float64\n",
      " 20  COVERAGE_TIME:The period of time for which data are provided                    348 non-null    object \n",
      " 21  AGE:Current age                                                                 348 non-null    object \n",
      "dtypes: float64(9), int64(1), object(12)\n",
      "memory usage: 59.9+ KB\n"
     ]
    }
   ],
   "source": [
    "archivo.info()"
   ]
  },
  {
   "cell_type": "code",
   "execution_count": 5,
   "metadata": {},
   "outputs": [
    {
     "data": {
      "text/plain": [
       "Index(['DATAFLOW', 'REF_AREA:Geographic area', 'INDICATOR:Indicator',\n",
       "       'SEX:Sex', 'TIME_PERIOD:Time period', 'OBS_VALUE:Observation Value',\n",
       "       'UNIT_MULTIPLIER:Unit multiplier', 'UNIT_MEASURE:Unit of measure',\n",
       "       'OBS_STATUS:Observation Status', 'OBS_CONF:Observation confidentaility',\n",
       "       'LOWER_BOUND:Lower Bound', 'UPPER_BOUND:Upper Bound',\n",
       "       'WGTD_SAMPL_SIZE:Weighted Sample Size',\n",
       "       'OBS_FOOTNOTE:Observation footnote', 'SERIES_FOOTNOTE:Series footnote',\n",
       "       'DATA_SOURCE:Data Source',\n",
       "       'SOURCE_LINK:Citation of or link to the data source',\n",
       "       'CUSTODIAN:Custodian',\n",
       "       'TIME_PERIOD_METHOD:Time period activity related to when the data are collected',\n",
       "       'REF_PERIOD:Reference Period',\n",
       "       'COVERAGE_TIME:The period of time for which data are provided',\n",
       "       'AGE:Current age'],\n",
       "      dtype='object')"
      ]
     },
     "execution_count": 5,
     "metadata": {},
     "output_type": "execute_result"
    }
   ],
   "source": [
    "archivo.columns"
   ]
  },
  {
   "cell_type": "markdown",
   "metadata": {},
   "source": [
    "Dada la forma del dataset se procederá a eliminar las columnas que estorban o no sirven para las gráficas.\n"
   ]
  },
  {
   "cell_type": "code",
   "execution_count": 6,
   "metadata": {},
   "outputs": [
    {
     "data": {
      "text/html": [
       "<div>\n",
       "<style scoped>\n",
       "    .dataframe tbody tr th:only-of-type {\n",
       "        vertical-align: middle;\n",
       "    }\n",
       "\n",
       "    .dataframe tbody tr th {\n",
       "        vertical-align: top;\n",
       "    }\n",
       "\n",
       "    .dataframe thead th {\n",
       "        text-align: right;\n",
       "    }\n",
       "</style>\n",
       "<table border=\"1\" class=\"dataframe\">\n",
       "  <thead>\n",
       "    <tr style=\"text-align: right;\">\n",
       "      <th></th>\n",
       "      <th>REF_AREA:Geographic area</th>\n",
       "      <th>INDICATOR:Indicator</th>\n",
       "      <th>SEX:Sex</th>\n",
       "      <th>TIME_PERIOD:Time period</th>\n",
       "      <th>OBS_VALUE:Observation Value</th>\n",
       "      <th>AGE:Current age</th>\n",
       "    </tr>\n",
       "  </thead>\n",
       "  <tbody>\n",
       "    <tr>\n",
       "      <th>0</th>\n",
       "      <td>AFG: Afghanistan</td>\n",
       "      <td>PT_F_15-19_MRD: Percentage of girls aged 15-19...</td>\n",
       "      <td>_T: Total</td>\n",
       "      <td>2017</td>\n",
       "      <td>16.3</td>\n",
       "      <td>Y15T19: 15 to 19 years old</td>\n",
       "    </tr>\n",
       "    <tr>\n",
       "      <th>1</th>\n",
       "      <td>AFG: Afghanistan</td>\n",
       "      <td>PT_F_20-24_MRD_U15: Percentage of women (aged ...</td>\n",
       "      <td>_T: Total</td>\n",
       "      <td>2017</td>\n",
       "      <td>4.2</td>\n",
       "      <td>Y20T24: 20 to 24 years old</td>\n",
       "    </tr>\n",
       "    <tr>\n",
       "      <th>2</th>\n",
       "      <td>AFG: Afghanistan</td>\n",
       "      <td>PT_M_15-19_MRD: Percentage of boys aged 15-19 ...</td>\n",
       "      <td>_T: Total</td>\n",
       "      <td>2015</td>\n",
       "      <td>3.1</td>\n",
       "      <td>Y15T19: 15 to 19 years old</td>\n",
       "    </tr>\n",
       "    <tr>\n",
       "      <th>3</th>\n",
       "      <td>AFG: Afghanistan</td>\n",
       "      <td>PT_M_20-24_MRD_U18: Percentage of men (aged 20...</td>\n",
       "      <td>_T: Total</td>\n",
       "      <td>2015</td>\n",
       "      <td>7.3</td>\n",
       "      <td>Y20T24: 20 to 24 years old</td>\n",
       "    </tr>\n",
       "    <tr>\n",
       "      <th>4</th>\n",
       "      <td>ALB: Albania</td>\n",
       "      <td>PT_F_15-19_MRD: Percentage of girls aged 15-19...</td>\n",
       "      <td>_T: Total</td>\n",
       "      <td>2018</td>\n",
       "      <td>6.7</td>\n",
       "      <td>Y15T19: 15 to 19 years old</td>\n",
       "    </tr>\n",
       "    <tr>\n",
       "      <th>...</th>\n",
       "      <td>...</td>\n",
       "      <td>...</td>\n",
       "      <td>...</td>\n",
       "      <td>...</td>\n",
       "      <td>...</td>\n",
       "      <td>...</td>\n",
       "    </tr>\n",
       "    <tr>\n",
       "      <th>343</th>\n",
       "      <td>ZMB: Zambia</td>\n",
       "      <td>PT_M_20-24_MRD_U18: Percentage of men (aged 20...</td>\n",
       "      <td>_T: Total</td>\n",
       "      <td>2018</td>\n",
       "      <td>2.8</td>\n",
       "      <td>Y20T24: 20 to 24 years old</td>\n",
       "    </tr>\n",
       "    <tr>\n",
       "      <th>344</th>\n",
       "      <td>ZWE: Zimbabwe</td>\n",
       "      <td>PT_F_15-19_MRD: Percentage of girls aged 15-19...</td>\n",
       "      <td>_T: Total</td>\n",
       "      <td>2019</td>\n",
       "      <td>21.2</td>\n",
       "      <td>Y15T19: 15 to 19 years old</td>\n",
       "    </tr>\n",
       "    <tr>\n",
       "      <th>345</th>\n",
       "      <td>ZWE: Zimbabwe</td>\n",
       "      <td>PT_F_20-24_MRD_U15: Percentage of women (aged ...</td>\n",
       "      <td>_T: Total</td>\n",
       "      <td>2019</td>\n",
       "      <td>5.4</td>\n",
       "      <td>Y20T24: 20 to 24 years old</td>\n",
       "    </tr>\n",
       "    <tr>\n",
       "      <th>346</th>\n",
       "      <td>ZWE: Zimbabwe</td>\n",
       "      <td>PT_M_15-19_MRD: Percentage of boys aged 15-19 ...</td>\n",
       "      <td>_T: Total</td>\n",
       "      <td>2019</td>\n",
       "      <td>0.7</td>\n",
       "      <td>Y15T19: 15 to 19 years old</td>\n",
       "    </tr>\n",
       "    <tr>\n",
       "      <th>347</th>\n",
       "      <td>ZWE: Zimbabwe</td>\n",
       "      <td>PT_M_20-24_MRD_U18: Percentage of men (aged 20...</td>\n",
       "      <td>_T: Total</td>\n",
       "      <td>2019</td>\n",
       "      <td>1.9</td>\n",
       "      <td>Y20T24: 20 to 24 years old</td>\n",
       "    </tr>\n",
       "  </tbody>\n",
       "</table>\n",
       "<p>348 rows × 6 columns</p>\n",
       "</div>"
      ],
      "text/plain": [
       "    REF_AREA:Geographic area  \\\n",
       "0           AFG: Afghanistan   \n",
       "1           AFG: Afghanistan   \n",
       "2           AFG: Afghanistan   \n",
       "3           AFG: Afghanistan   \n",
       "4               ALB: Albania   \n",
       "..                       ...   \n",
       "343              ZMB: Zambia   \n",
       "344            ZWE: Zimbabwe   \n",
       "345            ZWE: Zimbabwe   \n",
       "346            ZWE: Zimbabwe   \n",
       "347            ZWE: Zimbabwe   \n",
       "\n",
       "                                   INDICATOR:Indicator    SEX:Sex  \\\n",
       "0    PT_F_15-19_MRD: Percentage of girls aged 15-19...  _T: Total   \n",
       "1    PT_F_20-24_MRD_U15: Percentage of women (aged ...  _T: Total   \n",
       "2    PT_M_15-19_MRD: Percentage of boys aged 15-19 ...  _T: Total   \n",
       "3    PT_M_20-24_MRD_U18: Percentage of men (aged 20...  _T: Total   \n",
       "4    PT_F_15-19_MRD: Percentage of girls aged 15-19...  _T: Total   \n",
       "..                                                 ...        ...   \n",
       "343  PT_M_20-24_MRD_U18: Percentage of men (aged 20...  _T: Total   \n",
       "344  PT_F_15-19_MRD: Percentage of girls aged 15-19...  _T: Total   \n",
       "345  PT_F_20-24_MRD_U15: Percentage of women (aged ...  _T: Total   \n",
       "346  PT_M_15-19_MRD: Percentage of boys aged 15-19 ...  _T: Total   \n",
       "347  PT_M_20-24_MRD_U18: Percentage of men (aged 20...  _T: Total   \n",
       "\n",
       "     TIME_PERIOD:Time period  OBS_VALUE:Observation Value  \\\n",
       "0                       2017                         16.3   \n",
       "1                       2017                          4.2   \n",
       "2                       2015                          3.1   \n",
       "3                       2015                          7.3   \n",
       "4                       2018                          6.7   \n",
       "..                       ...                          ...   \n",
       "343                     2018                          2.8   \n",
       "344                     2019                         21.2   \n",
       "345                     2019                          5.4   \n",
       "346                     2019                          0.7   \n",
       "347                     2019                          1.9   \n",
       "\n",
       "                AGE:Current age  \n",
       "0    Y15T19: 15 to 19 years old  \n",
       "1    Y20T24: 20 to 24 years old  \n",
       "2    Y15T19: 15 to 19 years old  \n",
       "3    Y20T24: 20 to 24 years old  \n",
       "4    Y15T19: 15 to 19 years old  \n",
       "..                          ...  \n",
       "343  Y20T24: 20 to 24 years old  \n",
       "344  Y15T19: 15 to 19 years old  \n",
       "345  Y20T24: 20 to 24 years old  \n",
       "346  Y15T19: 15 to 19 years old  \n",
       "347  Y20T24: 20 to 24 years old  \n",
       "\n",
       "[348 rows x 6 columns]"
      ]
     },
     "execution_count": 6,
     "metadata": {},
     "output_type": "execute_result"
    }
   ],
   "source": [
    "archivo_libre=archivo.drop(columns=['DATAFLOW','UNIT_MULTIPLIER:Unit multiplier','UNIT_MEASURE:Unit of measure','OBS_STATUS:Observation Status','OBS_CONF:Observation confidentaility','LOWER_BOUND:Lower Bound','UPPER_BOUND:Upper Bound','WGTD_SAMPL_SIZE:Weighted Sample Size','OBS_FOOTNOTE:Observation footnote', 'SERIES_FOOTNOTE:Series footnote',\n",
    "       'DATA_SOURCE:Data Source',\n",
    "       'SOURCE_LINK:Citation of or link to the data source',\n",
    "       'CUSTODIAN:Custodian',\n",
    "       'TIME_PERIOD_METHOD:Time period activity related to when the data are collected',\n",
    "       'REF_PERIOD:Reference Period',\n",
    "       'COVERAGE_TIME:The period of time for which data are provided'])\n",
    "archivo_libre"
   ]
  },
  {
   "cell_type": "markdown",
   "metadata": {},
   "source": [
    "Ahora se realizará un cambio de nombre a las columnas para poder manejarlas de mejor manera"
   ]
  },
  {
   "cell_type": "code",
   "execution_count": 8,
   "metadata": {},
   "outputs": [],
   "source": [
    "archivo_libre.columns=['Geographic_area','Indicator','Sex','Time_period','Observation_value','Current_age']"
   ]
  },
  {
   "cell_type": "markdown",
   "metadata": {},
   "source": [
    "Ya realizada una primera limpieza se procederá a revisar la falta de archivos NaN o vacios, para así tratarlos según corresponda"
   ]
  },
  {
   "cell_type": "code",
   "execution_count": 9,
   "metadata": {},
   "outputs": [
    {
     "name": "stdout",
     "output_type": "stream",
     "text": [
      "<class 'pandas.core.frame.DataFrame'>\n",
      "RangeIndex: 348 entries, 0 to 347\n",
      "Data columns (total 6 columns):\n",
      " #   Column             Non-Null Count  Dtype  \n",
      "---  ------             --------------  -----  \n",
      " 0   Geographic_area    348 non-null    object \n",
      " 1   Indicator          348 non-null    object \n",
      " 2   Sex                348 non-null    object \n",
      " 3   Time_period        348 non-null    int64  \n",
      " 4   Observation_value  348 non-null    float64\n",
      " 5   Current_age        348 non-null    object \n",
      "dtypes: float64(1), int64(1), object(4)\n",
      "memory usage: 16.4+ KB\n"
     ]
    }
   ],
   "source": [
    "archivo_libre.info()"
   ]
  },
  {
   "cell_type": "markdown",
   "metadata": {},
   "source": [
    "Ahora para obtener las primeras impresiones de esta data se realizará una agrupación por por indicador, donde se realizará una media como resumen de datos"
   ]
  },
  {
   "cell_type": "code",
   "execution_count": 12,
   "metadata": {},
   "outputs": [
    {
     "data": {
      "text/plain": [
       "Indicator\n",
       "PT_F_15-19_MRD: Percentage of girls aged 15-19 years who are currently married or in union      14.132979\n",
       "PT_F_20-24_MRD_U15: Percentage of women (aged 20-24 years) married or in union before age 15     5.283333\n",
       "PT_M_15-19_MRD: Percentage of boys aged 15-19 years who are currently married or in union        2.409589\n",
       "PT_M_20-24_MRD_U18: Percentage of men (aged 20-24 years) married or in union before age 18       4.501579\n",
       "Name: Observation_value, dtype: float64"
      ]
     },
     "execution_count": 12,
     "metadata": {},
     "output_type": "execute_result"
    }
   ],
   "source": [
    "archivo_libre.groupby(['Indicator'])['Observation_value'].mean()"
   ]
  },
  {
   "cell_type": "code",
   "execution_count": 27,
   "metadata": {},
   "outputs": [],
   "source": [
    "import plotly.express as px"
   ]
  },
  {
   "cell_type": "code",
   "execution_count": 26,
   "metadata": {},
   "outputs": [
    {
     "name": "stderr",
     "output_type": "stream",
     "text": [
      "/var/folders/6y/9fksy1pj1bnbf51v6nyzx6fc0000gn/T/ipykernel_5203/61788567.py:5: UserWarning: FixedFormatter should only be used together with FixedLocator\n",
      "  ax1.set_yticklabels(['Niñas de 15 a 19 años',\"Mujeres de 20 a 24 casadas antes de los 15\",\"Niños de 15 a 19 años\",\"Hombres de 20 a 24 casados antes de los 15\"],)\n",
      "/var/folders/6y/9fksy1pj1bnbf51v6nyzx6fc0000gn/T/ipykernel_5203/61788567.py:6: UserWarning: FixedFormatter should only be used together with FixedLocator\n",
      "  ax1.set_xticklabels(['0%','2%','4%','6%','8%','10%','12%','14%'])\n",
      "/var/folders/6y/9fksy1pj1bnbf51v6nyzx6fc0000gn/T/ipykernel_5203/61788567.py:8: UserWarning: Matplotlib is currently using module://matplotlib_inline.backend_inline, which is a non-GUI backend, so cannot show the figure.\n",
      "  fig1.show()\n"
     ]
    },
    {
     "data": {
      "image/png": "[encoded data removed]",
      "text/plain": [
       "<Figure size 900x600 with 1 Axes>"
      ]
     },
     "metadata": {
      "needs_background": "light"
     },
     "output_type": "display_data"
    }
   ],
   "source": [
    "fig1 = plt.figure(dpi=150)\n",
    "ax1 = fig1.add_subplot(2,1,1)\n",
    "ax1.barh(archivo_libre.groupby(['Indicator'])['Observation_value'].mean().index,archivo_libre.groupby(['Indicator'])['Observation_value'].mean().values)\n",
    "ax1.set_title('Promedio de cantidad de niños/niñas casados/as en el mundo del 2015 al 2022')\n",
    "ax1.set_yticklabels(['Niñas de 15 a 19 años',\"Mujeres de 20 a 24 casadas antes de los 15\",\"Niños de 15 a 19 años\",\"Hombres de 20 a 24 casados antes de los 15\"],)\n",
    "ax1.set_xticklabels(['0%','2%','4%','6%','8%','10%','12%','14%'])\n",
    "\n",
    "ax2=fig1.add_subplot(2,1,2)\n",
    "ax2.plot()"
   ]
  },
  {
   "cell_type": "code",
   "execution_count": 34,
   "metadata": {},
   "outputs": [],
   "source": [
    "Indicatortor_color_map = {\n",
    "    'D: Percentage of girls aged 15-19 years who are currently married or in union':'#0000FF',\n",
    "    'PT_F_20-24_MRD_U15: Percentage of women (aged 20-24 years) married or in union before age 15':'#6CD3BF',\n",
    "    'PT_M_15-19_MRD: Percentage of boys aged 15-19 years who are currently married or in union':'#1E5BC6',\n",
    "    'PT_M_20-24_MRD_U18: Percentage of men (aged 20-24 years) married or in union before age 18':'#ED1C24',\n",
    "}"
   ]
  },
  {
   "cell_type": "code",
   "execution_count": 46,
   "metadata": {},
   "outputs": [
    {
     "data": {
      "application/vnd.plotly.v1+json": {
       "config": {
        "plotlyServerURL": "https://plot.ly"
       },
       "data": [
        {
         "hovertemplate": "Indicator=PT_F_15-19_MRD: Percentage of girls aged 15-19 years who are currently married or in union<br>Años=%{x}<br>Valor observado (%)=%{y}<extra></extra>",
         "legendgroup": "PT_F_15-19_MRD: Percentage of girls aged 15-19 years who are currently married or in union",
         "line": {
          "color": "#FFA15A",
          "dash": "solid"
         },
         "marker": {
          "symbol": "circle"
         },
         "mode": "lines",
         "name": "PT_F_15-19_MRD: Percentage of girls aged 15-19 years who are currently married or in union",
         "orientation": "v",
         "showlegend": true,
         "type": "scatter",
         "x": [
          2015,
          2016,
          2017,
          2018,
          2019,
          2020,
          2021
         ],
         "xaxis": "x",
         "y": [
          21.563636363636366,
          12.392307692307693,
          9.93,
          14.273076923076925,
          14.933333333333334,
          12.263636363636364,
          5.65
         ],
         "yaxis": "y"
        },
        {
         "hovertemplate": "Indicator=PT_F_20-24_MRD_U15: Percentage of women (aged 20-24 years) married or in union before age 15<br>Años=%{x}<br>Valor observado (%)=%{y}<extra></extra>",
         "legendgroup": "PT_F_20-24_MRD_U15: Percentage of women (aged 20-24 years) married or in union before age 15",
         "line": {
          "color": "#6CD3BF",
          "dash": "solid"
         },
         "marker": {
          "symbol": "circle"
         },
         "mode": "lines",
         "name": "PT_F_20-24_MRD_U15: Percentage of women (aged 20-24 years) married or in union before age 15",
         "orientation": "v",
         "showlegend": true,
         "type": "scatter",
         "x": [
          2015,
          2016,
          2017,
          2018,
          2019,
          2020,
          2021
         ],
         "xaxis": "x",
         "y": [
          8.425,
          4.62,
          2.4727272727272727,
          5.503703703703703,
          6.699999999999999,
          3.391666666666667,
          5.531818181818181
         ],
         "yaxis": "y"
        },
        {
         "hovertemplate": "Indicator=PT_M_15-19_MRD: Percentage of boys aged 15-19 years who are currently married or in union<br>Años=%{x}<br>Valor observado (%)=%{y}<extra></extra>",
         "legendgroup": "PT_M_15-19_MRD: Percentage of boys aged 15-19 years who are currently married or in union",
         "line": {
          "color": "#1E5BC6",
          "dash": "solid"
         },
         "marker": {
          "symbol": "circle"
         },
         "mode": "lines",
         "name": "PT_M_15-19_MRD: Percentage of boys aged 15-19 years who are currently married or in union",
         "orientation": "v",
         "showlegend": true,
         "type": "scatter",
         "x": [
          2015,
          2016,
          2017,
          2018,
          2019,
          2020,
          2021
         ],
         "xaxis": "x",
         "y": [
          4.4399999999999995,
          1.7090909090909092,
          1.3333333333333333,
          1.7857142857142858,
          2.5533333333333332,
          3.3875,
          0.8999999999999999
         ],
         "yaxis": "y"
        },
        {
         "hovertemplate": "Indicator=PT_M_20-24_MRD_U18: Percentage of men (aged 20-24 years) married or in union before age 18<br>Años=%{x}<br>Valor observado (%)=%{y}<extra></extra>",
         "legendgroup": "PT_M_20-24_MRD_U18: Percentage of men (aged 20-24 years) married or in union before age 18",
         "line": {
          "color": "#ED1C24",
          "dash": "solid"
         },
         "marker": {
          "symbol": "circle"
         },
         "mode": "lines",
         "name": "PT_M_20-24_MRD_U18: Percentage of men (aged 20-24 years) married or in union before age 18",
         "orientation": "v",
         "showlegend": true,
         "type": "scatter",
         "x": [
          2015,
          2016,
          2017,
          2018,
          2019,
          2020,
          2021
         ],
         "xaxis": "x",
         "y": [
          6.6000000000000005,
          5.225,
          3.1,
          4,
          6.064285714285715,
          3.557142857142857,
          2.62
         ],
         "yaxis": "y"
        }
       ],
       "layout": {
        "legend": {
         "title": {
          "text": "Indicator"
         },
         "tracegroupgap": 0
        },
        "margin": {
         "t": 60
        },
        "showlegend": false,
        "template": {
         "data": {
          "bar": [
           {
            "error_x": {
             "color": "#2a3f5f"
            },
            "error_y": {
             "color": "#2a3f5f"
            },
            "marker": {
             "line": {
              "color": "#E5ECF6",
              "width": 0.5
             },
             "pattern": {
              "fillmode": "overlay",
              "size": 10,
              "solidity": 0.2
             }
            },
            "type": "bar"
           }
          ],
          "barpolar": [
           {
            "marker": {
             "line": {
              "color": "#E5ECF6",
              "width": 0.5
             },
             "pattern": {
              "fillmode": "overlay",
              "size": 10,
              "solidity": 0.2
             }
            },
            "type": "barpolar"
           }
          ],
          "carpet": [
           {
            "aaxis": {
             "endlinecolor": "#2a3f5f",
             "gridcolor": "white",
             "linecolor": "white",
             "minorgridcolor": "white",
             "startlinecolor": "#2a3f5f"
            },
            "baxis": {
             "endlinecolor": "#2a3f5f",
             "gridcolor": "white",
             "linecolor": "white",
             "minorgridcolor": "white",
             "startlinecolor": "#2a3f5f"
            },
            "type": "carpet"
           }
          ],
          "choropleth": [
           {
            "colorbar": {
             "outlinewidth": 0,
             "ticks": ""
            },
            "type": "choropleth"
           }
          ],
          "contour": [
           {
            "colorbar": {
             "outlinewidth": 0,
             "ticks": ""
            },
            "colorscale": [
             [
              0,
              "#0d0887"
             ],
             [
              0.1111111111111111,
              "#46039f"
             ],
             [
              0.2222222222222222,
              "#7201a8"
             ],
             [
              0.3333333333333333,
              "#9c179e"
             ],
             [
              0.4444444444444444,
              "#bd3786"
             ],
             [
              0.5555555555555556,
              "#d8576b"
             ],
             [
              0.6666666666666666,
              "#ed7953"
             ],
             [
              0.7777777777777778,
              "#fb9f3a"
             ],
             [
              0.8888888888888888,
              "#fdca26"
             ],
             [
              1,
              "#f0f921"
             ]
            ],
            "type": "contour"
           }
          ],
          "contourcarpet": [
           {
            "colorbar": {
             "outlinewidth": 0,
             "ticks": ""
            },
            "type": "contourcarpet"
           }
          ],
          "heatmap": [
           {
            "colorbar": {
             "outlinewidth": 0,
             "ticks": ""
            },
            "colorscale": [
             [
              0,
              "#0d0887"
             ],
             [
              0.1111111111111111,
              "#46039f"
             ],
             [
              0.2222222222222222,
              "#7201a8"
             ],
             [
              0.3333333333333333,
              "#9c179e"
             ],
             [
              0.4444444444444444,
              "#bd3786"
             ],
             [
              0.5555555555555556,
              "#d8576b"
             ],
             [
              0.6666666666666666,
              "#ed7953"
             ],
             [
              0.7777777777777778,
              "#fb9f3a"
             ],
             [
              0.8888888888888888,
              "#fdca26"
             ],
             [
              1,
              "#f0f921"
             ]
            ],
            "type": "heatmap"
           }
          ],
          "heatmapgl": [
           {
            "colorbar": {
             "outlinewidth": 0,
             "ticks": ""
            },
            "colorscale": [
             [
              0,
              "#0d0887"
             ],
             [
              0.1111111111111111,
              "#46039f"
             ],
             [
              0.2222222222222222,
              "#7201a8"
             ],
             [
              0.3333333333333333,
              "#9c179e"
             ],
             [
              0.4444444444444444,
              "#bd3786"
             ],
             [
              0.5555555555555556,
              "#d8576b"
             ],
             [
              0.6666666666666666,
              "#ed7953"
             ],
             [
              0.7777777777777778,
              "#fb9f3a"
             ],
             [
              0.8888888888888888,
              "#fdca26"
             ],
             [
              1,
              "#f0f921"
             ]
            ],
            "type": "heatmapgl"
           }
          ],
          "histogram": [
           {
            "marker": {
             "pattern": {
              "fillmode": "overlay",
              "size": 10,
              "solidity": 0.2
             }
            },
            "type": "histogram"
           }
          ],
          "histogram2d": [
           {
            "colorbar": {
             "outlinewidth": 0,
             "ticks": ""
            },
            "colorscale": [
             [
              0,
              "#0d0887"
             ],
             [
              0.1111111111111111,
              "#46039f"
             ],
             [
              0.2222222222222222,
              "#7201a8"
             ],
             [
              0.3333333333333333,
              "#9c179e"
             ],
             [
              0.4444444444444444,
              "#bd3786"
             ],
             [
              0.5555555555555556,
              "#d8576b"
             ],
             [
              0.6666666666666666,
              "#ed7953"
             ],
             [
              0.7777777777777778,
              "#fb9f3a"
             ],
             [
              0.8888888888888888,
              "#fdca26"
             ],
             [
              1,
              "#f0f921"
             ]
            ],
            "type": "histogram2d"
           }
          ],
          "histogram2dcontour": [
           {
            "colorbar": {
             "outlinewidth": 0,
             "ticks": ""
            },
            "colorscale": [
             [
              0,
              "#0d0887"
             ],
             [
              0.1111111111111111,
              "#46039f"
             ],
             [
              0.2222222222222222,
              "#7201a8"
             ],
             [
              0.3333333333333333,
              "#9c179e"
             ],
             [
              0.4444444444444444,
              "#bd3786"
             ],
             [
              0.5555555555555556,
              "#d8576b"
             ],
             [
              0.6666666666666666,
              "#ed7953"
             ],
             [
              0.7777777777777778,
              "#fb9f3a"
             ],
             [
              0.8888888888888888,
              "#fdca26"
             ],
             [
              1,
              "#f0f921"
             ]
            ],
            "type": "histogram2dcontour"
           }
          ],
          "mesh3d": [
           {
            "colorbar": {
             "outlinewidth": 0,
             "ticks": ""
            },
            "type": "mesh3d"
           }
          ],
          "parcoords": [
           {
            "line": {
             "colorbar": {
              "outlinewidth": 0,
              "ticks": ""
             }
            },
            "type": "parcoords"
           }
          ],
          "pie": [
           {
            "automargin": true,
            "type": "pie"
           }
          ],
          "scatter": [
           {
            "fillpattern": {
             "fillmode": "overlay",
             "size": 10,
             "solidity": 0.2
            },
            "type": "scatter"
           }
          ],
          "scatter3d": [
           {
            "line": {
             "colorbar": {
              "outlinewidth": 0,
              "ticks": ""
             }
            },
            "marker": {
             "colorbar": {
              "outlinewidth": 0,
              "ticks": ""
             }
            },
            "type": "scatter3d"
           }
          ],
          "scattercarpet": [
           {
            "marker": {
             "colorbar": {
              "outlinewidth": 0,
              "ticks": ""
             }
            },
            "type": "scattercarpet"
           }
          ],
          "scattergeo": [
           {
            "marker": {
             "colorbar": {
              "outlinewidth": 0,
              "ticks": ""
             }
            },
            "type": "scattergeo"
           }
          ],
          "scattergl": [
           {
            "marker": {
             "colorbar": {
              "outlinewidth": 0,
              "ticks": ""
             }
            },
            "type": "scattergl"
           }
          ],
          "scattermapbox": [
           {
            "marker": {
             "colorbar": {
              "outlinewidth": 0,
              "ticks": ""
             }
            },
            "type": "scattermapbox"
           }
          ],
          "scatterpolar": [
           {
            "marker": {
             "colorbar": {
              "outlinewidth": 0,
              "ticks": ""
             }
            },
            "type": "scatterpolar"
           }
          ],
          "scatterpolargl": [
           {
            "marker": {
             "colorbar": {
              "outlinewidth": 0,
              "ticks": ""
             }
            },
            "type": "scatterpolargl"
           }
          ],
          "scatterternary": [
           {
            "marker": {
             "colorbar": {
              "outlinewidth": 0,
              "ticks": ""
             }
            },
            "type": "scatterternary"
           }
          ],
          "surface": [
           {
            "colorbar": {
             "outlinewidth": 0,
             "ticks": ""
            },
            "colorscale": [
             [
              0,
              "#0d0887"
             ],
             [
              0.1111111111111111,
              "#46039f"
             ],
             [
              0.2222222222222222,
              "#7201a8"
             ],
             [
              0.3333333333333333,
              "#9c179e"
             ],
             [
              0.4444444444444444,
              "#bd3786"
             ],
             [
              0.5555555555555556,
              "#d8576b"
             ],
             [
              0.6666666666666666,
              "#ed7953"
             ],
             [
              0.7777777777777778,
              "#fb9f3a"
             ],
             [
              0.8888888888888888,
              "#fdca26"
             ],
             [
              1,
              "#f0f921"
             ]
            ],
            "type": "surface"
           }
          ],
          "table": [
           {
            "cells": {
             "fill": {
              "color": "#EBF0F8"
             },
             "line": {
              "color": "white"
             }
            },
            "header": {
             "fill": {
              "color": "#C8D4E3"
             },
             "line": {
              "color": "white"
             }
            },
            "type": "table"
           }
          ]
         },
         "layout": {
          "annotationdefaults": {
           "arrowcolor": "#2a3f5f",
           "arrowhead": 0,
           "arrowwidth": 1
          },
          "autotypenumbers": "strict",
          "coloraxis": {
           "colorbar": {
            "outlinewidth": 0,
            "ticks": ""
           }
          },
          "colorscale": {
           "diverging": [
            [
             0,
             "#8e0152"
            ],
            [
             0.1,
             "#c51b7d"
            ],
            [
             0.2,
             "#de77ae"
            ],
            [
             0.3,
             "#f1b6da"
            ],
            [
             0.4,
             "#fde0ef"
            ],
            [
             0.5,
             "#f7f7f7"
            ],
            [
             0.6,
             "#e6f5d0"
            ],
            [
             0.7,
             "#b8e186"
            ],
            [
             0.8,
             "#7fbc41"
            ],
            [
             0.9,
             "#4d9221"
            ],
            [
             1,
             "#276419"
            ]
           ],
           "sequential": [
            [
             0,
             "#0d0887"
            ],
            [
             0.1111111111111111,
             "#46039f"
            ],
            [
             0.2222222222222222,
             "#7201a8"
            ],
            [
             0.3333333333333333,
             "#9c179e"
            ],
            [
             0.4444444444444444,
             "#bd3786"
            ],
            [
             0.5555555555555556,
             "#d8576b"
            ],
            [
             0.6666666666666666,
             "#ed7953"
            ],
            [
             0.7777777777777778,
             "#fb9f3a"
            ],
            [
             0.8888888888888888,
             "#fdca26"
            ],
            [
             1,
             "#f0f921"
            ]
           ],
           "sequentialminus": [
            [
             0,
             "#0d0887"
            ],
            [
             0.1111111111111111,
             "#46039f"
            ],
            [
             0.2222222222222222,
             "#7201a8"
            ],
            [
             0.3333333333333333,
             "#9c179e"
            ],
            [
             0.4444444444444444,
             "#bd3786"
            ],
            [
             0.5555555555555556,
             "#d8576b"
            ],
            [
             0.6666666666666666,
             "#ed7953"
            ],
            [
             0.7777777777777778,
             "#fb9f3a"
            ],
            [
             0.8888888888888888,
             "#fdca26"
            ],
            [
             1,
             "#f0f921"
            ]
           ]
          },
          "colorway": [
           "#636efa",
           "#EF553B",
           "#00cc96",
           "#ab63fa",
           "#FFA15A",
           "#19d3f3",
           "#FF6692",
           "#B6E880",
           "#FF97FF",
           "#FECB52"
          ],
          "font": {
           "color": "#2a3f5f"
          },
          "geo": {
           "bgcolor": "white",
           "lakecolor": "white",
           "landcolor": "#E5ECF6",
           "showlakes": true,
           "showland": true,
           "subunitcolor": "white"
          },
          "hoverlabel": {
           "align": "left"
          },
          "hovermode": "closest",
          "mapbox": {
           "style": "light"
          },
          "paper_bgcolor": "white",
          "plot_bgcolor": "#E5ECF6",
          "polar": {
           "angularaxis": {
            "gridcolor": "white",
            "linecolor": "white",
            "ticks": ""
           },
           "bgcolor": "#E5ECF6",
           "radialaxis": {
            "gridcolor": "white",
            "linecolor": "white",
            "ticks": ""
           }
          },
          "scene": {
           "xaxis": {
            "backgroundcolor": "#E5ECF6",
            "gridcolor": "white",
            "gridwidth": 2,
            "linecolor": "white",
            "showbackground": true,
            "ticks": "",
            "zerolinecolor": "white"
           },
           "yaxis": {
            "backgroundcolor": "#E5ECF6",
            "gridcolor": "white",
            "gridwidth": 2,
            "linecolor": "white",
            "showbackground": true,
            "ticks": "",
            "zerolinecolor": "white"
           },
           "zaxis": {
            "backgroundcolor": "#E5ECF6",
            "gridcolor": "white",
            "gridwidth": 2,
            "linecolor": "white",
            "showbackground": true,
            "ticks": "",
            "zerolinecolor": "white"
           }
          },
          "shapedefaults": {
           "line": {
            "color": "#2a3f5f"
           }
          },
          "ternary": {
           "aaxis": {
            "gridcolor": "white",
            "linecolor": "white",
            "ticks": ""
           },
           "baxis": {
            "gridcolor": "white",
            "linecolor": "white",
            "ticks": ""
           },
           "bgcolor": "#E5ECF6",
           "caxis": {
            "gridcolor": "white",
            "linecolor": "white",
            "ticks": ""
           }
          },
          "title": {
           "x": 0.05
          },
          "xaxis": {
           "automargin": true,
           "gridcolor": "white",
           "linecolor": "white",
           "ticks": "",
           "title": {
            "standoff": 15
           },
           "zerolinecolor": "white",
           "zerolinewidth": 2
          },
          "yaxis": {
           "automargin": true,
           "gridcolor": "white",
           "linecolor": "white",
           "ticks": "",
           "title": {
            "standoff": 15
           },
           "zerolinecolor": "white",
           "zerolinewidth": 2
          }
         }
        },
        "title": {
         "text": "Variación en el porcentaje de niños/as casados a traves de los años"
        },
        "xaxis": {
         "anchor": "y",
         "domain": [
          0,
          1
         ],
         "title": {
          "text": "Años"
         }
        },
        "yaxis": {
         "anchor": "x",
         "domain": [
          0,
          1
         ],
         "title": {
          "text": "Valor observado (%)"
         }
        }
       }
      }
     },
     "metadata": {},
     "output_type": "display_data"
    }
   ],
   "source": [
    "fig = px.line(archivo_libre.groupby(by=['Time_period','Indicator']).mean().reset_index(),\n",
    "                 x='Time_period',\n",
    "                 y='Observation_value',\n",
    "                 color='Indicator',\n",
    "                 color_discrete_map=Indicatortor_color_map,\n",
    "                 labels=dict(Time_period=\"Años\", Observation_value=\"Valor observado (%)\")\n",
    "                )\n",
    "fig.update_layout(showlegend=False,title_text='Variación en el porcentaje de niños/as casados a traves de los años')\n",
    "fig.show()"
   ]
  },
  {
   "cell_type": "markdown",
   "metadata": {},
   "source": [
    "En resumen se puede apreciar una clara evidencia que las niñas y las mujeres han tenido siempre una mayor presencia en este tipo de medidas, lo que es bastante preocupante, donde claramente desde el 2015 al 2017 se presento una baja en casi todas las categorias, pero desde el 2018 al 2019 este nivel subio a niveles bastante elevados, siendo la categoria de niñas de 15 a 19 años que estan actualmente casadas llegando a un 14,9% de la población total de niñas en el mundo, un valor muy alto y bastante preocupante, pero desde ese año al 2021 se ve una baja en el gráfico, pero puede ser dado a que son años de pandemia y puede haber afectado en la medición de este indicador"
   ]
  }
 ],
 "metadata": {
  "interpreter": {
   "hash": "82f297aed5a1f891a9c998abd3debcb12192d16a341539449b62f39c7e199530"
  },
  "kernelspec": {
   "display_name": "Python 3.9.11 ('myenv')",
   "language": "python",
   "name": "python3"
  },
  "language_info": {
   "codemirror_mode": {
    "name": "ipython",
    "version": 3
   },
   "file_extension": ".py",
   "mimetype": "text/x-python",
   "name": "python",
   "nbconvert_exporter": "python",
   "pygments_lexer": "ipython3",
   "version": "3.9.11"
  },
  "orig_nbformat": 4
 },
 "nbformat": 4,
 "nbformat_minor": 2
}
